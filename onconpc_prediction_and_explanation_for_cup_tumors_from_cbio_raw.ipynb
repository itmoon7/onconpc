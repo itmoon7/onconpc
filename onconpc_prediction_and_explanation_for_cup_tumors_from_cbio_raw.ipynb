{
 "cells": [
  {
   "cell_type": "code",
   "execution_count": 1,
   "id": "4f19125c-7c88-41b6-8afd-4950f537f12c",
   "metadata": {},
   "outputs": [
    {
     "name": "stderr",
     "output_type": "stream",
     "text": [
      "IProgress not found. Please update jupyter and ipywidgets. See https://ipywidgets.readthedocs.io/en/stable/user_install.html\n"
     ]
    }
   ],
   "source": [
    "import warnings\n",
    "import pandas as pd\n",
    "import xgboost as xgb\n",
    "import codes.utils as utils"
   ]
  },
  {
   "cell_type": "code",
   "execution_count": 2,
   "id": "242c3173",
   "metadata": {},
   "outputs": [],
   "source": [
    "# Load mock data with three tumor samples\n",
    "patients_df = pd.read_csv('data/mock_n_3_data/mock_clinical_patients_data_n_3.txt', sep='\\t')\n",
    "samples_df = pd.read_csv('data/mock_n_3_data/mock_clinical_samples_data_n_3.txt', sep='\\t')\n",
    "mutations_df = pd.read_csv('data/mock_n_3_data/mock_mutations_data_n_3.txt', sep='\\t')\n",
    "cna_df = pd.read_csv('data/mock_n_3_data/mock_CNA_data_n_3.txt', sep='\\t')"
   ]
  },
  {
   "cell_type": "code",
   "execution_count": 3,
   "id": "98efa674",
   "metadata": {},
   "outputs": [],
   "source": [
    "# Get features and labels for OncoNPC predictive inference\n",
    "df_features_genie_final, df_labels_genie = utils.get_onconpc_features_from_raw_data(\n",
    "    patients_df,\n",
    "    samples_df,\n",
    "    mutations_df,\n",
    "    cna_df,\n",
    "    features_onconpc_path='data/features_onconpc.pkl',\n",
    "    combined_cohort_age_stats_path='data/combined_cohort_age_stats.pkl',\n",
    "    mut_sig_weights_filepath='data/mutation_signatures/sigProfiler*.csv'\n",
    ")"
   ]
  },
  {
   "cell_type": "code",
   "execution_count": 4,
   "id": "4f3ab86b-c8be-45b1-a6b4-7c1c03b88e99",
   "metadata": {},
   "outputs": [],
   "source": [
    "# Load fully trained OncoNPC model\n",
    "xgb_onconpc = xgb.Booster()\n",
    "xgb_onconpc.load_model('model/xgboost_v1.7.6_OncoNPC_full.json')\n",
    "\n",
    "# Specify cancer types to consider\n",
    "cancer_types_to_consider = ['Acute Myeloid Leukemia', 'Bladder Urothelial Carcinoma', 'Cholangiocarcinoma',\n",
    "                            'Colorectal Adenocarcinoma', 'Diffuse Glioma', 'Endometrial Carcinoma',\n",
    "                            'Esophagogastric Adenocarcinoma', 'Gastrointestinal Neuroendocrine Tumors', 'Gastrointestinal Stromal Tumor',\n",
    "                            'Head and Neck Squamous Cell Carcinoma', 'Invasive Breast Carcinoma', 'Melanoma', 'Meningothelial Tumor',\n",
    "                            'Non-Hodgkin Lymphoma', 'Non-Small Cell Lung Cancer', 'Ovarian Epithelial Tumor', 'Pancreatic Adenocarcinoma',\n",
    "                            'Pancreatic Neuroendocrine Tumor', 'Pleural Mesothelioma', 'Prostate Adenocarcinoma', 'Renal Cell Carcinoma',\n",
    "                            'Well-Differentiated Thyroid Cancer']\n",
    "# Predict primary sites of CUP tumors\n",
    "preds_df = utils.get_xgboost_latest_cancer_type_preds(xgb_onconpc,\n",
    "                                                      df_features_genie_final,\n",
    "                                                      cancer_types_to_consider)"
   ]
  },
  {
   "cell_type": "code",
   "execution_count": 5,
   "id": "d7d21a70-6874-4cc7-ad75-6a8cb5dd9617",
   "metadata": {},
   "outputs": [],
   "source": [
    "# Get SHAP values for CUP tumors\n",
    "warnings.filterwarnings('ignore')\n",
    "shaps = utils.obtain_shap_values_with_latest_xgboost(xgb_onconpc, df_features_genie_final)"
   ]
  },
  {
   "cell_type": "code",
   "execution_count": 6,
   "id": "3cb4f83c",
   "metadata": {},
   "outputs": [
    {
     "ename": "FileNotFoundError",
     "evalue": "[Errno 2] No such file or directory: '../data/combined_cohort_age_stats.pkl'",
     "output_type": "error",
     "traceback": [
      "\u001b[0;31m---------------------------------------------------------------------------\u001b[0m",
      "\u001b[0;31mFileNotFoundError\u001b[0m                         Traceback (most recent call last)",
      "Cell \u001b[0;32mIn[6], line 2\u001b[0m\n\u001b[1;32m      1\u001b[0m query_ids \u001b[38;5;241m=\u001b[39m \u001b[38;5;28mlist\u001b[39m(samples_df\u001b[38;5;241m.\u001b[39mSAMPLE_ID\u001b[38;5;241m.\u001b[39mvalues)\n\u001b[0;32m----> 2\u001b[0m results \u001b[38;5;241m=\u001b[39m \u001b[43mutils\u001b[49m\u001b[38;5;241;43m.\u001b[39;49m\u001b[43mget_onconpc_prediction_explanations\u001b[49m\u001b[43m(\u001b[49m\u001b[43mquery_ids\u001b[49m\u001b[43m,\u001b[49m\u001b[43m \u001b[49m\u001b[43mpreds_df\u001b[49m\u001b[43m,\u001b[49m\u001b[43m \u001b[49m\u001b[43mshaps\u001b[49m\u001b[43m,\u001b[49m\n\u001b[1;32m      3\u001b[0m \u001b[43m                                                    \u001b[49m\u001b[43mdf_features_genie_final\u001b[49m\u001b[43m,\u001b[49m\n\u001b[1;32m      4\u001b[0m \u001b[43m                                                    \u001b[49m\u001b[43mcancer_types_to_consider\u001b[49m\u001b[43m,\u001b[49m\n\u001b[1;32m      5\u001b[0m \u001b[43m                                                    \u001b[49m\u001b[43msave_plot\u001b[49m\u001b[38;5;241;43m=\u001b[39;49m\u001b[38;5;28;43;01mFalse\u001b[39;49;00m\u001b[43m)\u001b[49m\n",
      "File \u001b[0;32m~/Dropbox (MIT)/github/onconpc/codes/utils.py:271\u001b[0m, in \u001b[0;36mget_onconpc_prediction_explanations\u001b[0;34m(query_ids, preds_df, shaps, df_features_genie, cancer_types_to_consider, filepath, save_plot)\u001b[0m\n\u001b[1;32m    269\u001b[0m sample_info \u001b[38;5;241m=\u001b[39m \u001b[38;5;124mf\u001b[39m\u001b[38;5;124m'\u001b[39m\u001b[38;5;124mSAMPLE_ID: \u001b[39m\u001b[38;5;132;01m{\u001b[39;00mquery_id\u001b[38;5;132;01m}\u001b[39;00m\u001b[38;5;130;01m\\n\u001b[39;00m\u001b[38;5;124mPrediction: \u001b[39m\u001b[38;5;132;01m{\u001b[39;00mpred_cancer\u001b[38;5;132;01m}\u001b[39;00m\u001b[38;5;130;01m\\n\u001b[39;00m\u001b[38;5;124mPrediction probability: \u001b[39m\u001b[38;5;132;01m{\u001b[39;00mpred_prob\u001b[38;5;132;01m:\u001b[39;00m\u001b[38;5;124m.3f\u001b[39m\u001b[38;5;132;01m}\u001b[39;00m\u001b[38;5;124m'\u001b[39m\n\u001b[1;32m    270\u001b[0m feature_group_to_features_dict, feature_to_feature_group_dict \u001b[38;5;241m=\u001b[39m partition_feature_names_by_group(df_features_genie\u001b[38;5;241m.\u001b[39mcolumns)\n\u001b[0;32m--> 271\u001b[0m full_filename \u001b[38;5;241m=\u001b[39m \u001b[43mget_individual_pred_interpretation\u001b[49m\u001b[43m(\u001b[49m\u001b[43mshap_pred_sample_df\u001b[49m\u001b[43m,\u001b[49m\n\u001b[1;32m    272\u001b[0m \u001b[43m\t\t\t\t\t\t\t\t\t\t\t \u001b[49m\u001b[43mfeature_sample_df\u001b[49m\u001b[43m,\u001b[49m\n\u001b[1;32m    273\u001b[0m \u001b[43m\t\t\t\t\t\t\t\t\t\t\t \u001b[49m\u001b[43mfeature_group_to_features_dict\u001b[49m\u001b[43m,\u001b[49m\n\u001b[1;32m    274\u001b[0m \u001b[43m\t\t\t\t\t\t\t\t\t\t\t \u001b[49m\u001b[43mfeature_to_feature_group_dict\u001b[49m\u001b[43m,\u001b[49m\n\u001b[1;32m    275\u001b[0m \u001b[43m\t\t\t\t\t\t\t\t\t\t\t \u001b[49m\u001b[43msample_info\u001b[49m\u001b[38;5;241;43m=\u001b[39;49m\u001b[43msample_info\u001b[49m\u001b[43m,\u001b[49m\n\u001b[1;32m    276\u001b[0m \u001b[43m\t\t\t\t\t\t\t\t\t\t\t \u001b[49m\u001b[43mfilename\u001b[49m\u001b[38;5;241;43m=\u001b[39;49m\u001b[38;5;28;43mstr\u001b[39;49m\u001b[43m(\u001b[49m\u001b[43mquery_id\u001b[49m\u001b[43m)\u001b[49m\u001b[43m,\u001b[49m\n\u001b[1;32m    277\u001b[0m \u001b[43m\t\t\t\t\t\t\t\t\t\t\t \u001b[49m\u001b[43mfilepath\u001b[49m\u001b[38;5;241;43m=\u001b[39;49m\u001b[43mfilepath\u001b[49m\u001b[43m,\u001b[49m\n\u001b[1;32m    278\u001b[0m \u001b[43m\t\t\t\t\t\t\t\t\t\t\t \u001b[49m\u001b[43mtop_feature_num\u001b[49m\u001b[38;5;241;43m=\u001b[39;49m\u001b[38;5;241;43m10\u001b[39;49m\u001b[43m,\u001b[49m\n\u001b[1;32m    279\u001b[0m \u001b[43m\t\t\t\t\t\t\t\t\t\t\t \u001b[49m\u001b[43msave_plot\u001b[49m\u001b[38;5;241;43m=\u001b[39;49m\u001b[43msave_plot\u001b[49m\u001b[43m)\u001b[49m\n\u001b[1;32m    280\u001b[0m \u001b[38;5;66;03m# Store the results\u001b[39;00m\n\u001b[1;32m    281\u001b[0m results_dict[query_id] \u001b[38;5;241m=\u001b[39m {\n\u001b[1;32m    282\u001b[0m \t\u001b[38;5;124m'\u001b[39m\u001b[38;5;124mpred_prob\u001b[39m\u001b[38;5;124m'\u001b[39m: pred_prob,\n\u001b[1;32m    283\u001b[0m \t\u001b[38;5;124m'\u001b[39m\u001b[38;5;124mpred_cancer\u001b[39m\u001b[38;5;124m'\u001b[39m: pred_cancer,\n\u001b[1;32m    284\u001b[0m \t\u001b[38;5;124m'\u001b[39m\u001b[38;5;124mexplanation_plot\u001b[39m\u001b[38;5;124m'\u001b[39m: full_filename\n\u001b[1;32m    285\u001b[0m }\n",
      "File \u001b[0;32m~/Dropbox (MIT)/github/onconpc/codes/utils.py:199\u001b[0m, in \u001b[0;36mget_individual_pred_interpretation\u001b[0;34m(shap_pred_sample_df, feature_sample_df, feature_group_to_features_dict, feature_to_feature_group_dict, sample_info, filename, filepath, cohort_age_stats_path, top_feature_num, save_plot)\u001b[0m\n\u001b[1;32m    196\u001b[0m ax\u001b[38;5;241m.\u001b[39mset_title(sample_info)\n\u001b[1;32m    197\u001b[0m ax\u001b[38;5;241m.\u001b[39mset_yticks([])\n\u001b[0;32m--> 199\u001b[0m \u001b[38;5;28;01mwith\u001b[39;00m \u001b[38;5;28;43mopen\u001b[39;49m\u001b[43m(\u001b[49m\u001b[43mcohort_age_stats_path\u001b[49m\u001b[43m,\u001b[49m\u001b[43m \u001b[49m\u001b[38;5;124;43m\"\u001b[39;49m\u001b[38;5;124;43mrb\u001b[39;49m\u001b[38;5;124;43m\"\u001b[39;49m\u001b[43m)\u001b[49m \u001b[38;5;28;01mas\u001b[39;00m fp:\n\u001b[1;32m    200\u001b[0m     combined_cohort_age_stats \u001b[38;5;241m=\u001b[39m pickle\u001b[38;5;241m.\u001b[39mload(fp)\n\u001b[1;32m    202\u001b[0m \u001b[38;5;66;03m# Dynamic positioning of feature names and values\u001b[39;00m\n",
      "\u001b[0;31mFileNotFoundError\u001b[0m: [Errno 2] No such file or directory: '../data/combined_cohort_age_stats.pkl'"
     ]
    },
    {
     "data": {
      "image/png": "[encoded data removed]",
      "text/plain": [
       "<Figure size 640x480 with 1 Axes>"
      ]
     },
     "metadata": {},
     "output_type": "display_data"
    }
   ],
   "source": [
    "query_ids = list(samples_df.SAMPLE_ID.values)\n",
    "results = utils.get_onconpc_prediction_explanations(query_ids, preds_df, shaps,\n",
    "                                                    df_features_genie_final,\n",
    "                                                    cancer_types_to_consider,\n",
    "                                                    cohort_age_stats_path='data/combined_cohort_age_stats.pkl',\n",
    "                                                    save_plot=False)"
   ]
  },
  {
   "cell_type": "code",
   "execution_count": 7,
   "id": "b6670199",
   "metadata": {},
   "outputs": [
    {
     "data": {
      "text/html": [
       "<div>\n",
       "<style scoped>\n",
       "    .dataframe tbody tr th:only-of-type {\n",
       "        vertical-align: middle;\n",
       "    }\n",
       "\n",
       "    .dataframe tbody tr th {\n",
       "        vertical-align: top;\n",
       "    }\n",
       "\n",
       "    .dataframe thead th {\n",
       "        text-align: right;\n",
       "    }\n",
       "</style>\n",
       "<table border=\"1\" class=\"dataframe\">\n",
       "  <thead>\n",
       "    <tr style=\"text-align: right;\">\n",
       "      <th></th>\n",
       "      <th>BRAF CNA</th>\n",
       "      <th>KCNQ1 CNA</th>\n",
       "      <th>IGF1R CNA</th>\n",
       "      <th>GNAS CNA</th>\n",
       "      <th>BCL2L1 CNA</th>\n",
       "      <th>NTRK3</th>\n",
       "      <th>SLX1B CNA</th>\n",
       "      <th>NKX2-1 CNA</th>\n",
       "      <th>RAD51D</th>\n",
       "      <th>NEGR1</th>\n",
       "      <th>...</th>\n",
       "      <th>AR CNA</th>\n",
       "      <th>CBLB CNA</th>\n",
       "      <th>HOXB13 CNA</th>\n",
       "      <th>FANCL</th>\n",
       "      <th>ZRSR2 CNA</th>\n",
       "      <th>RAD51 CNA</th>\n",
       "      <th>SBS33</th>\n",
       "      <th>IDH2 CNA</th>\n",
       "      <th>TERC CNA</th>\n",
       "      <th>SBS14</th>\n",
       "    </tr>\n",
       "  </thead>\n",
       "  <tbody>\n",
       "    <tr>\n",
       "      <th>Bladder Urothelial Carcinoma</th>\n",
       "      <td>0.000000</td>\n",
       "      <td>0.0</td>\n",
       "      <td>0.000000</td>\n",
       "      <td>0.013930</td>\n",
       "      <td>-0.017634</td>\n",
       "      <td>0.000000</td>\n",
       "      <td>0.0</td>\n",
       "      <td>-0.002773</td>\n",
       "      <td>0.0</td>\n",
       "      <td>0.0</td>\n",
       "      <td>...</td>\n",
       "      <td>0.000000</td>\n",
       "      <td>0.000000</td>\n",
       "      <td>0.000000</td>\n",
       "      <td>0.0</td>\n",
       "      <td>0.000000</td>\n",
       "      <td>0.0</td>\n",
       "      <td>0.008677</td>\n",
       "      <td>0.000000</td>\n",
       "      <td>0.0</td>\n",
       "      <td>-0.000587</td>\n",
       "    </tr>\n",
       "    <tr>\n",
       "      <th>Prostate Adenocarcinoma</th>\n",
       "      <td>0.000000</td>\n",
       "      <td>0.0</td>\n",
       "      <td>0.000000</td>\n",
       "      <td>0.012355</td>\n",
       "      <td>0.000000</td>\n",
       "      <td>0.000000</td>\n",
       "      <td>0.0</td>\n",
       "      <td>0.001849</td>\n",
       "      <td>0.0</td>\n",
       "      <td>0.0</td>\n",
       "      <td>...</td>\n",
       "      <td>0.035127</td>\n",
       "      <td>-0.000122</td>\n",
       "      <td>-0.029474</td>\n",
       "      <td>0.0</td>\n",
       "      <td>0.000000</td>\n",
       "      <td>0.0</td>\n",
       "      <td>0.011412</td>\n",
       "      <td>0.000000</td>\n",
       "      <td>0.0</td>\n",
       "      <td>0.005755</td>\n",
       "    </tr>\n",
       "    <tr>\n",
       "      <th>Non-Small Cell Lung Cancer</th>\n",
       "      <td>0.000309</td>\n",
       "      <td>0.0</td>\n",
       "      <td>0.000468</td>\n",
       "      <td>0.003211</td>\n",
       "      <td>0.008055</td>\n",
       "      <td>-0.002149</td>\n",
       "      <td>0.0</td>\n",
       "      <td>-0.149480</td>\n",
       "      <td>0.0</td>\n",
       "      <td>0.0</td>\n",
       "      <td>...</td>\n",
       "      <td>0.000000</td>\n",
       "      <td>-0.000143</td>\n",
       "      <td>0.000000</td>\n",
       "      <td>0.0</td>\n",
       "      <td>0.000571</td>\n",
       "      <td>0.0</td>\n",
       "      <td>-0.000147</td>\n",
       "      <td>0.000804</td>\n",
       "      <td>0.0</td>\n",
       "      <td>0.001680</td>\n",
       "    </tr>\n",
       "  </tbody>\n",
       "</table>\n",
       "<p>3 rows × 903 columns</p>\n",
       "</div>"
      ],
      "text/plain": [
       "                              BRAF CNA  KCNQ1 CNA  IGF1R CNA  GNAS CNA  \\\n",
       "Bladder Urothelial Carcinoma  0.000000        0.0   0.000000  0.013930   \n",
       "Prostate Adenocarcinoma       0.000000        0.0   0.000000  0.012355   \n",
       "Non-Small Cell Lung Cancer    0.000309        0.0   0.000468  0.003211   \n",
       "\n",
       "                              BCL2L1 CNA     NTRK3  SLX1B CNA  NKX2-1 CNA  \\\n",
       "Bladder Urothelial Carcinoma   -0.017634  0.000000        0.0   -0.002773   \n",
       "Prostate Adenocarcinoma         0.000000  0.000000        0.0    0.001849   \n",
       "Non-Small Cell Lung Cancer      0.008055 -0.002149        0.0   -0.149480   \n",
       "\n",
       "                              RAD51D  NEGR1  ...    AR CNA  CBLB CNA  \\\n",
       "Bladder Urothelial Carcinoma     0.0    0.0  ...  0.000000  0.000000   \n",
       "Prostate Adenocarcinoma          0.0    0.0  ...  0.035127 -0.000122   \n",
       "Non-Small Cell Lung Cancer       0.0    0.0  ...  0.000000 -0.000143   \n",
       "\n",
       "                              HOXB13 CNA  FANCL  ZRSR2 CNA  RAD51 CNA  \\\n",
       "Bladder Urothelial Carcinoma    0.000000    0.0   0.000000        0.0   \n",
       "Prostate Adenocarcinoma        -0.029474    0.0   0.000000        0.0   \n",
       "Non-Small Cell Lung Cancer      0.000000    0.0   0.000571        0.0   \n",
       "\n",
       "                                 SBS33  IDH2 CNA  TERC CNA     SBS14  \n",
       "Bladder Urothelial Carcinoma  0.008677  0.000000       0.0 -0.000587  \n",
       "Prostate Adenocarcinoma       0.011412  0.000000       0.0  0.005755  \n",
       "Non-Small Cell Lung Cancer   -0.000147  0.000804       0.0  0.001680  \n",
       "\n",
       "[3 rows x 903 columns]"
      ]
     },
     "execution_count": 7,
     "metadata": {},
     "output_type": "execute_result"
    }
   ],
   "source": [
    "# Get top 3 predicted primary sites and SHAP values for each tumor sample\n",
    "sample_id_to_top_n_pred_and_shaps_df = utils.get_top_n_pred_and_shap(\n",
    "\t\tpreds_df, shaps, df_features_genie_final.columns, cancer_types=cancer_types_to_consider, n=3)\n",
    "sample_id_to_top_n_pred_and_shaps_df['GENIE-S-003']['shap_values_df']"
   ]
  }
 ],
 "metadata": {
  "kernelspec": {
   "display_name": "Python 3 (ipykernel)",
   "language": "python",
   "name": "python3"
  },
  "language_info": {
   "codemirror_mode": {
    "name": "ipython",
    "version": 3
   },
   "file_extension": ".py",
   "mimetype": "text/x-python",
   "name": "python",
   "nbconvert_exporter": "python",
   "pygments_lexer": "ipython3",
   "version": "3.9.18"
  }
 },
 "nbformat": 4,
 "nbformat_minor": 5
}
