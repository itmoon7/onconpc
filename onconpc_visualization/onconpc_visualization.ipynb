{
 "cells": [
  {
   "cell_type": "code",
   "execution_count": 1,
   "id": "4f19125c-7c88-41b6-8afd-4950f537f12c",
   "metadata": {},
   "outputs": [
    {
     "name": "stderr",
     "output_type": "stream",
     "text": [
      "Using `tqdm.autonotebook.tqdm` in notebook mode. Use `tqdm.tqdm` instead to force console mode (e.g. in jupyter console)\n"
     ]
    }
   ],
   "source": [
    "import sys\n",
    "sys.path.append('../codes')\n",
    "import utils as utils\n",
    "import gradio_utils\n",
    "import gradio as gr"
   ]
  },
  {
   "cell_type": "code",
   "execution_count": 2,
   "id": "545c66d7-917e-4909-9016-6e97699f94de",
   "metadata": {},
   "outputs": [
    {
     "name": "stdout",
     "output_type": "stream",
     "text": [
      "Running on local URL:  http://0.0.0.0:6900\n",
      "Running on public URL: https://c74f8f51e33d2bd33c.gradio.live\n",
      "\n",
      "This share link expires in 72 hours. For free permanent hosting and GPU upgrades, run `gradio deploy` from Terminal to deploy to Spaces (https://huggingface.co/spaces)\n"
     ]
    },
    {
     "data": {
      "text/html": [
       "<div><iframe src=\"https://c74f8f51e33d2bd33c.gradio.live\" width=\"100%\" height=\"500\" allow=\"autoplay; camera; microphone; clipboard-read; clipboard-write;\" frameborder=\"0\" allowfullscreen></iframe></div>"
      ],
      "text/plain": [
       "<IPython.core.display.HTML object>"
      ]
     },
     "metadata": {},
     "output_type": "display_data"
    },
    {
     "name": "stderr",
     "output_type": "stream",
     "text": [
      "R[write to console]: Error in .getOneSeqFromBSgenomeMultipleSequences(x, names[i], start[i],  : \n",
      "  sequence chrchr17 not found\n",
      "\n",
      "Traceback (most recent call last):\n",
      "  File \"/Users/jenniferzhou/anaconda3/envs/myenv_latest_xgboost/lib/python3.8/site-packages/gradio/routes.py\", line 534, in predict\n",
      "    output = await route_utils.call_process_api(\n",
      "  File \"/Users/jenniferzhou/anaconda3/envs/myenv_latest_xgboost/lib/python3.8/site-packages/gradio/route_utils.py\", line 226, in call_process_api\n",
      "    output = await app.get_blocks().process_api(\n",
      "  File \"/Users/jenniferzhou/anaconda3/envs/myenv_latest_xgboost/lib/python3.8/site-packages/gradio/blocks.py\", line 1550, in process_api\n",
      "    result = await self.call_function(\n",
      "  File \"/Users/jenniferzhou/anaconda3/envs/myenv_latest_xgboost/lib/python3.8/site-packages/gradio/blocks.py\", line 1185, in call_function\n",
      "    prediction = await anyio.to_thread.run_sync(\n",
      "  File \"/Users/jenniferzhou/anaconda3/envs/myenv_latest_xgboost/lib/python3.8/site-packages/anyio/to_thread.py\", line 33, in run_sync\n",
      "    return await get_asynclib().run_sync_in_worker_thread(\n",
      "  File \"/Users/jenniferzhou/anaconda3/envs/myenv_latest_xgboost/lib/python3.8/site-packages/anyio/_backends/_asyncio.py\", line 877, in run_sync_in_worker_thread\n",
      "    return await future\n",
      "  File \"/Users/jenniferzhou/anaconda3/envs/myenv_latest_xgboost/lib/python3.8/site-packages/anyio/_backends/_asyncio.py\", line 807, in run\n",
      "    result = context.run(func, *args)\n",
      "  File \"/Users/jenniferzhou/anaconda3/envs/myenv_latest_xgboost/lib/python3.8/site-packages/gradio/utils.py\", line 661, in wrapper\n",
      "    response = f(*args, **kwargs)\n",
      "  File \"/Users/jenniferzhou/onconpc/onconpc_visualization/../codes/gradio_utils.py\", line 409, in get_preds_min_info\n",
      "    features = parse_inputs(age, gender, CNA_events, mutations)\n",
      "  File \"/Users/jenniferzhou/onconpc/onconpc_visualization/../codes/gradio_utils.py\", line 252, in parse_inputs\n",
      "    df_trinuc_feats = utils.get_snv_in_trinuc_context(mutation_df, 'UNIQUE_SAMPLE_ID', 'CHROMOSOME', 'POSITION', 'REF_ALLELE', 'ALT_ALLELE')\n",
      "  File \"/Users/jenniferzhou/onconpc/onconpc_visualization/../codes/utils.py\", line 443, in get_snv_in_trinuc_context\n",
      "    df_trinuc_feats = robjects.conversion.rpy2py(r_function(r_df_mutations,\n",
      "  File \"/Users/jenniferzhou/anaconda3/envs/myenv_latest_xgboost/lib/python3.8/site-packages/rpy2/robjects/functions.py\", line 208, in __call__\n",
      "    return (super(SignatureTranslatedFunction, self)\n",
      "  File \"/Users/jenniferzhou/anaconda3/envs/myenv_latest_xgboost/lib/python3.8/site-packages/rpy2/robjects/functions.py\", line 131, in __call__\n",
      "    res = super(Function, self).__call__(*new_args, **new_kwargs)\n",
      "  File \"/Users/jenniferzhou/anaconda3/envs/myenv_latest_xgboost/lib/python3.8/site-packages/rpy2/rinterface_lib/conversion.py\", line 45, in _\n",
      "    cdata = function(*args, **kwargs)\n",
      "  File \"/Users/jenniferzhou/anaconda3/envs/myenv_latest_xgboost/lib/python3.8/site-packages/rpy2/rinterface.py\", line 873, in __call__\n",
      "    raise embedded.RRuntimeError(_rinterface._geterrmessage())\n",
      "rpy2.rinterface_lib.embedded.RRuntimeError: Error in .getOneSeqFromBSgenomeMultipleSequences(x, names[i], start[i],  : \n",
      "  sequence chrchr17 not found\n",
      "\n"
     ]
    },
    {
     "name": "stdout",
     "output_type": "stream",
     "text": [
      "Keyboard interruption in main thread... closing server.\n",
      "Killing tunnel 0.0.0.0:6900 <> https://c74f8f51e33d2bd33c.gradio.live\n"
     ]
    }
   ],
   "source": [
    "gradio_utils.launch_gradio(server_name='0.0.0.0', server_port=6900)"
   ]
  },
  {
   "cell_type": "code",
   "execution_count": null,
   "id": "30b01872-482e-4fc5-adb7-31d2604b14cc",
   "metadata": {},
   "outputs": [],
   "source": []
  }
 ],
 "metadata": {
  "kernelspec": {
   "display_name": "Python (xgboost)",
   "language": "python",
   "name": "myenv_latest_xgboost"
  },
  "language_info": {
   "codemirror_mode": {
    "name": "ipython",
    "version": 3
   },
   "file_extension": ".py",
   "mimetype": "text/x-python",
   "name": "python",
   "nbconvert_exporter": "python",
   "pygments_lexer": "ipython3",
   "version": "3.8.18"
  }
 },
 "nbformat": 4,
 "nbformat_minor": 5
}
