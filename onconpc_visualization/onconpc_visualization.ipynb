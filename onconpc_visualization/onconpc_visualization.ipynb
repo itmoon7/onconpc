{
 "cells": [
  {
   "cell_type": "code",
   "execution_count": 1,
   "id": "4f19125c-7c88-41b6-8afd-4950f537f12c",
   "metadata": {},
   "outputs": [
    {
     "name": "stderr",
     "output_type": "stream",
     "text": [
      "Using `tqdm.autonotebook.tqdm` in notebook mode. Use `tqdm.tqdm` instead to force console mode (e.g. in jupyter console)\n"
     ]
    }
   ],
   "source": [
    "import sys\n",
    "sys.path.append('../codes')\n",
    "import utils as utils\n",
    "import gradio_utils\n",
    "import gradio as gr"
   ]
  },
  {
   "cell_type": "code",
   "execution_count": null,
   "id": "545c66d7-917e-4909-9016-6e97699f94de",
   "metadata": {},
   "outputs": [
    {
     "name": "stdout",
     "output_type": "stream",
     "text": [
      "Running on local URL:  http://0.0.0.0:6700\n"
     ]
    }
   ],
   "source": [
    "gradio_utils.launch_gradio(server_name='0.0.0.0', server_port=6700)"
   ]
  },
  {
   "cell_type": "code",
   "execution_count": null,
   "id": "30b01872-482e-4fc5-adb7-31d2604b14cc",
   "metadata": {},
   "outputs": [],
   "source": []
  }
 ],
 "metadata": {
  "kernelspec": {
   "display_name": "Python (xgboost)",
   "language": "python",
   "name": "myenv_latest_xgboost"
  },
  "language_info": {
   "codemirror_mode": {
    "name": "ipython",
    "version": 3
   },
   "file_extension": ".py",
   "mimetype": "text/x-python",
   "name": "python",
   "nbconvert_exporter": "python",
   "pygments_lexer": "ipython3",
   "version": "3.8.18"
  }
 },
 "nbformat": 4,
 "nbformat_minor": 5
}
