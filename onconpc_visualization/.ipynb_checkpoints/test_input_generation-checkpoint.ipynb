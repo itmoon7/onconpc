{
 "cells": [
  {
   "cell_type": "code",
   "execution_count": 57,
   "metadata": {},
   "outputs": [],
   "source": [
    "import pandas as pd"
   ]
  },
  {
   "cell_type": "code",
   "execution_count": 58,
   "metadata": {},
   "outputs": [],
   "source": [
    "filepath = f'../data/mock_n_3_data'"
   ]
  },
  {
   "cell_type": "code",
   "execution_count": 59,
   "metadata": {},
   "outputs": [],
   "source": [
    "patients_df = pd.read_csv(filepath + f'/mock_clinical_patients_data_n_3.txt', sep='\\t')\n",
    "samples_df = pd.read_csv(filepath + f'/mock_clinical_samples_data_n_3.txt', sep='\\t')\n",
    "mutations_df = pd.read_csv(filepath + f'/mock_mutations_data_n_3.txt', sep='\\t')\n",
    "cna_df = pd.read_csv(filepath + f'/mock_CNA_data_n_3.txt', sep='\\t') "
   ]
  },
  {
   "cell_type": "code",
   "execution_count": 60,
   "metadata": {},
   "outputs": [],
   "source": [
    "cna_df.set_index('Hugo_Symbol', inplace=True)"
   ]
  },
  {
   "cell_type": "code",
   "execution_count": 67,
   "metadata": {},
   "outputs": [],
   "source": [
    "def generate_test_input(PATIENT_ID, SAMPLE_ID):\n",
    "    \n",
    "    patients_df = pd.read_csv(filepath + f'/mock_clinical_patients_data_n_3.txt', sep='\\t')\n",
    "    samples_df = pd.read_csv(filepath + f'/mock_clinical_samples_data_n_3.txt', sep='\\t')\n",
    "    mutations_df = pd.read_csv(filepath + f'/mock_mutations_data_n_3.txt', sep='\\t')\n",
    "    cna_df = pd.read_csv(filepath + f'/mock_CNA_data_n_3.txt', sep='\\t') \n",
    "    cna_df.set_index('Hugo_Symbol', inplace=True)\n",
    "    \n",
    "    SEX = patients_df[patients_df['PATIENT_ID'] == PATIENT_ID]['SEX'].to_list()[0]\n",
    "    \n",
    "    cna_update = cna_df.dropna(subset=[SAMPLE_ID], inplace=False)\n",
    "    cna_update = cna_update[cna_update[SAMPLE_ID] != 0]\n",
    "    cna_input_string = ''\n",
    "    for index, row in cna_update.iterrows():\n",
    "        cna_input_string += str(index) + ' ' + str(int(row[SAMPLE_ID])) + ' | '\n",
    "    cna_input_string = cna_input_string[:-3]\n",
    "    \n",
    "    mutation_columns = ['Tumor_Sample_Barcode', 'Hugo_Symbol', 'Chromosome', 'Start_Position', 'Reference_Allele', 'Tumor_Seq_Allele2']\n",
    "    \n",
    "    for col in mutations_df.columns:\n",
    "        if col not in mutation_columns:\n",
    "            mutations_df = mutations_df.drop(col, axis=1)\n",
    "    \n",
    "    mutations_df = mutations_df[mutations_df['Tumor_Sample_Barcode'] == SAMPLE_ID]\n",
    "    mutation_str = ''\n",
    "    for i, row in mutations_df.iterrows():\n",
    "        mutation_str += row['Hugo_Symbol'] + ', chr' + str(row['Chromosome']) + ', ' + str(row['Start_Position']) + ', ' + row['Reference_Allele'] + ', ' + row['Tumor_Seq_Allele2'] + ' | '\n",
    "    mutation_str = mutation_str[:-2]\n",
    "    AGE = samples_df[samples_df['PATIENT_ID'] ==  PATIENT_ID]['AGE_AT_SEQ_REPORT'].to_list()[0]\n",
    "    return {'AGE': AGE, 'SEX': SEX, 'CNA': cna_input_string, 'MUTATIONS': mutation_str}"
   ]
  },
  {
   "cell_type": "code",
   "execution_count": 69,
   "metadata": {},
   "outputs": [
    {
     "data": {
      "text/plain": [
       "{'AGE': 56,\n",
       " 'SEX': 'Male',\n",
       " 'CNA': 'BRIP1 2 | CRKL 2 | MAPK1 2 | SPOP 2',\n",
       " 'MUTATIONS': 'KRAS, chr12, 25398284, C, A | TP53, chr17, 7578176, C, A | KDR, chr4, 55979551, C, T | RFWD2, chr1, 175916343, C, G | CD79B, chr17, 62008712, C, A | RTEL1, chr20, 62326183, G, A '}"
      ]
     },
     "execution_count": 69,
     "metadata": {},
     "output_type": "execute_result"
    }
   ],
   "source": [
    "generate_test_input('GENIE-P-001', 'GENIE-S-001')"
   ]
  },
  {
   "cell_type": "code",
   "execution_count": 54,
   "metadata": {},
   "outputs": [],
   "source": [
    "generate_test_input('GENIE-P-002', 'GENIE-S-002')"
   ]
  },
  {
   "cell_type": "code",
   "execution_count": 70,
   "metadata": {},
   "outputs": [
    {
     "data": {
      "text/plain": [
       "{'AGE': 64,\n",
       " 'SEX': 'Male',\n",
       " 'CNA': 'PPARG 2 | RAF1 2',\n",
       " 'MUTATIONS': 'ERBB2, chr17, 37868208, C, T | SPOP, chr17, 47685288, C, T | ATR, chr3, 142241684, C, G | CDKN1A, chr6, 36651880, -, GTCAGAACCGGCTGGGGATGTCC | ESR1, chr6, 152415520, G, A '}"
      ]
     },
     "execution_count": 70,
     "metadata": {},
     "output_type": "execute_result"
    }
   ],
   "source": [
    "generate_test_input('GENIE-P-003', 'GENIE-S-003')"
   ]
  },
  {
   "cell_type": "code",
   "execution_count": 73,
   "metadata": {},
   "outputs": [],
   "source": []
  },
  {
   "cell_type": "code",
   "execution_count": null,
   "metadata": {},
   "outputs": [],
   "source": []
  }
 ],
 "metadata": {
  "kernelspec": {
   "display_name": "Python (xgboost)",
   "language": "python",
   "name": "myenv_latest_xgboost"
  },
  "language_info": {
   "codemirror_mode": {
    "name": "ipython",
    "version": 3
   },
   "file_extension": ".py",
   "mimetype": "text/x-python",
   "name": "python",
   "nbconvert_exporter": "python",
   "pygments_lexer": "ipython3",
   "version": "3.8.18"
  }
 },
 "nbformat": 4,
 "nbformat_minor": 4
}
