{
 "cells": [
  {
   "cell_type": "code",
   "execution_count": 1,
   "id": "4f19125c-7c88-41b6-8afd-4950f537f12c",
   "metadata": {},
   "outputs": [
    {
     "name": "stderr",
     "output_type": "stream",
     "text": [
      "Using `tqdm.autonotebook.tqdm` in notebook mode. Use `tqdm.tqdm` instead to force console mode (e.g. in jupyter console)\n"
     ]
    }
   ],
   "source": [
    "import sys\n",
    "sys.path.append('../codes')\n",
    "import utils as utils\n",
    "import gradio_utils\n",
    "import gradio as gr"
   ]
  },
  {
   "cell_type": "code",
   "execution_count": null,
   "id": "545c66d7-917e-4909-9016-6e97699f94de",
   "metadata": {},
   "outputs": [
    {
     "name": "stdout",
     "output_type": "stream",
     "text": [
      "Running on local URL:  http://0.0.0.0:4800\n",
      "Running on public URL: https://7cbb9f1b80a9a57065.gradio.live\n",
      "\n",
      "This share link expires in 72 hours. For free permanent hosting and GPU upgrades, run `gradio deploy` from Terminal to deploy to Spaces (https://huggingface.co/spaces)\n"
     ]
    },
    {
     "data": {
      "text/html": [
       "<div><iframe src=\"https://7cbb9f1b80a9a57065.gradio.live\" width=\"100%\" height=\"500\" allow=\"autoplay; camera; microphone; clipboard-read; clipboard-write;\" frameborder=\"0\" allowfullscreen></iframe></div>"
      ],
      "text/plain": [
       "<IPython.core.display.HTML object>"
      ]
     },
     "metadata": {},
     "output_type": "display_data"
    },
    {
     "name": "stdout",
     "output_type": "stream",
     "text": [
      "GENIE-S-003\n"
     ]
    },
    {
     "name": "stderr",
     "output_type": "stream",
     "text": [
      "R[write to console]: In addition: \n",
      "R[write to console]: Warning message:\n",
      "\n",
      "R[write to console]: In mut.to.sigs.input(mut.ref = mutationData, sample.id = sample_id,  :\n",
      "R[write to console]: \n",
      " \n",
      "R[write to console]:  Some samples have fewer than 50 mutations:\n",
      "  GENIE-S-001, GENIE-S-002, GENIE-S-003\n",
      "\n"
     ]
    },
    {
     "name": "stdout",
     "output_type": "stream",
     "text": [
      "GENIE-S-003\n"
     ]
    },
    {
     "name": "stderr",
     "output_type": "stream",
     "text": [
      "R[write to console]: In addition: \n",
      "R[write to console]: Warning messages:\n",
      "\n",
      "R[write to console]: 1: \n",
      "R[write to console]: In mut.to.sigs.input(mut.ref = mutationData, sample.id = sample_id,  :\n",
      "R[write to console]: \n",
      " \n",
      "R[write to console]:  Some samples have fewer than 50 mutations:\n",
      "  GENIE-S-001, GENIE-S-002, GENIE-S-003\n",
      "\n",
      "R[write to console]: 2: \n",
      "R[write to console]: In mut.to.sigs.input(mut.ref = mutationData, sample.id = \"UNIQUE_SAMPLE_ID\",  :\n",
      "R[write to console]: \n",
      " \n",
      "R[write to console]:  Some samples have fewer than 50 mutations:\n",
      "  manual input\n",
      "\n"
     ]
    },
    {
     "name": "stdout",
     "output_type": "stream",
     "text": [
      "{}\n"
     ]
    }
   ],
   "source": [
    "gradio_utils.launch_gradio(server_name='0.0.0.0', server_port=4800)"
   ]
  },
  {
   "cell_type": "code",
   "execution_count": null,
   "id": "30b01872-482e-4fc5-adb7-31d2604b14cc",
   "metadata": {},
   "outputs": [],
   "source": []
  }
 ],
 "metadata": {
  "kernelspec": {
   "display_name": "Python (xgboost)",
   "language": "python",
   "name": "myenv_latest_xgboost"
  },
  "language_info": {
   "codemirror_mode": {
    "name": "ipython",
    "version": 3
   },
   "file_extension": ".py",
   "mimetype": "text/x-python",
   "name": "python",
   "nbconvert_exporter": "python",
   "pygments_lexer": "ipython3",
   "version": "3.8.18"
  }
 },
 "nbformat": 4,
 "nbformat_minor": 5
}
